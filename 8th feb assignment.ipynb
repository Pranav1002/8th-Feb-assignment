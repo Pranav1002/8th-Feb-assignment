{
 "cells": [
  {
   "cell_type": "code",
   "execution_count": 1,
   "id": "1a64ad2e-3caf-4ef6-b673-40dd3a439847",
   "metadata": {},
   "outputs": [],
   "source": [
    "#1) What is Abstraction in OOPs? Explain with an example.\n",
    "\n",
    "# ---> Abstraction is selecting data from a larger pool to show only relevant details of the object to the user.\n",
    "# ---> Making coffee with a coffee machine is a good example of abstraction. You need to know how to use your coffee machine to make coffee. \n",
    "#      You need to provide water and coffee beans, switch it on and select the kind of coffee you want to get.You do not need to know the mechanism of the machine."
   ]
  },
  {
   "cell_type": "code",
   "execution_count": 1,
   "id": "7a1dacd6-c726-4d40-b75e-8198a4e42a1f",
   "metadata": {},
   "outputs": [
    {
     "data": {
      "text/plain": [
       "'\\nAbstraction : Abstraction is selecting data from a larger pool to show only relevant details of the object to the user.\\n-Example We are writing a bank account class,essential qualities of bank account are Opening date, Account title,Account number,Balance etc...\\n\\nEncapsulation : The idea of securing and hiding data and methods that are private to an object. It deals more with making something independent and foolproof.\\n-Example In our Bank account class Someone accessing the attribute of Balance and trying to change it ,Attempt can be successful if there is no encapsulation.\\n'"
      ]
     },
     "execution_count": 1,
     "metadata": {},
     "output_type": "execute_result"
    }
   ],
   "source": [
    "#2) Q2. Differentiate between Abstraction and Encapsulation.\n",
    "\n",
    "'''\n",
    "Abstraction : Abstraction is selecting data from a larger pool to show only relevant details of the object to the user.\n",
    "-Example We are writing a bank account class,essential qualities of bank account are Opening date, Account title,Account number,Balance etc...\n",
    "\n",
    "Encapsulation : The idea of securing and hiding data and methods that are private to an object. It deals more with making something independent and foolproof.\n",
    "-Example In our Bank account class Someone accessing the attribute of Balance and trying to change it ,Attempt can be successful if there is no encapsulation.\n",
    "'''"
   ]
  },
  {
   "cell_type": "code",
   "execution_count": 2,
   "id": "2212fa93-e8d0-47d0-9c89-850808713c42",
   "metadata": {},
   "outputs": [],
   "source": [
    "#3) What is abc module in python? Why is it used?\n",
    "#-->The abc module in Python library provides the infrastructure for defining custom abstract base classes. "
   ]
  },
  {
   "cell_type": "code",
   "execution_count": 3,
   "id": "82df4b66-dd49-4509-bc52-fe09e04e3516",
   "metadata": {},
   "outputs": [],
   "source": [
    "#4) How can we achieve data abstraction?\n",
    "#-->Data Abstraction in Python can be achieved through creating abstract classes and inheriting them later."
   ]
  },
  {
   "cell_type": "code",
   "execution_count": null,
   "id": "be046251-eead-4e5e-b0be-5bd666964db3",
   "metadata": {},
   "outputs": [],
   "source": [
    "#5) Can we create an instance of an abstract class? Explain your answer.\n"
   ]
  }
 ],
 "metadata": {
  "kernelspec": {
   "display_name": "Python 3 (ipykernel)",
   "language": "python",
   "name": "python3"
  },
  "language_info": {
   "codemirror_mode": {
    "name": "ipython",
    "version": 3
   },
   "file_extension": ".py",
   "mimetype": "text/x-python",
   "name": "python",
   "nbconvert_exporter": "python",
   "pygments_lexer": "ipython3",
   "version": "3.10.8"
  }
 },
 "nbformat": 4,
 "nbformat_minor": 5
}
